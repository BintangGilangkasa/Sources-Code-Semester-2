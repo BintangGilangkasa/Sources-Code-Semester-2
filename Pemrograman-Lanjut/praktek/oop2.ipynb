{
 "cells": [
  {
   "cell_type": "code",
   "execution_count": 14,
   "metadata": {},
   "outputs": [
    {
     "name": "stdout",
     "output_type": "stream",
     "text": [
      "Nama Merk Terbaru : ASUS\n",
      "Harga : 9.000.000\n",
      "VGA : RTX\n"
     ]
    }
   ],
   "source": [
    "class Laptop:\n",
    "    # Memanggil Laptop\n",
    "    def __init__(self, Nama, Harga, VGA):\n",
    "        self.atr_Nama = Nama\n",
    "        self.atr_Harga = Harga\n",
    "        self.atr_VGA = VGA\n",
    "    \n",
    "    def tampilkan_Nama(self):\n",
    "        return f\"Nama Merk : {self.atr_Nama}\"\n",
    "    \n",
    "    def tampilkan_Harga(self):\n",
    "        return f\"Harga : {self.atr_Harga}\"\n",
    "    \n",
    "    def tampilkan_VGA(self):\n",
    "        return f\"VGA : {self.atr_VGA}\"\n",
    "    \n",
    "    # Mengganti Nama, Harga, VGA\n",
    "    def ganti_Nama(self, ganti_Nama):\n",
    "        self.atr_Nama = ganti_Nama\n",
    "        return f\"Nama Merk Terbaru : {self.atr_Nama}\"\n",
    "    \n",
    "    def ganti_Harga(self, ganti_Harga):\n",
    "        self.atr_Harga = ganti_Harga\n",
    "        return f\"Harga Terbaru : {self.atr_Harga}\"\n",
    "    \n",
    "    def ganti_VGA(self, ganti_VGA):\n",
    "        self.atr_VGA = ganti_VGA\n",
    "        return f\"VGA Terbaru : {self.atr_VGA}\"\n",
    "\n",
    "\n",
    "# List Laptop\n",
    "Laptop1 = Laptop(\"MSI\",\"9.000.000\",\"RTX\")\n",
    "Laptop2 = Laptop(\"ASUS\", \"10.000.000\", \"GTX\")\n",
    "\n",
    "\n",
    "# Pemanggilan \n",
    "print(Laptop1.ganti_Nama(\"ASUS\"))\n",
    "print(Laptop1.tampilkan_Harga())\n",
    "print(Laptop1.tampilkan_VGA())\n"
   ]
  }
 ],
 "metadata": {
  "kernelspec": {
   "display_name": "Python 3",
   "language": "python",
   "name": "python3"
  },
  "language_info": {
   "codemirror_mode": {
    "name": "ipython",
    "version": 3
   },
   "file_extension": ".py",
   "mimetype": "text/x-python",
   "name": "python",
   "nbconvert_exporter": "python",
   "pygments_lexer": "ipython3",
   "version": "3.11.8"
  }
 },
 "nbformat": 4,
 "nbformat_minor": 2
}
