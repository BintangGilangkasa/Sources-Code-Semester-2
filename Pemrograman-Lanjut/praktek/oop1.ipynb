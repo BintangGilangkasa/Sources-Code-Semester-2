{
 "cells": [
  {
   "cell_type": "code",
   "execution_count": 1,
   "metadata": {},
   "outputs": [
    {
     "name": "stdout",
     "output_type": "stream",
     "text": [
      "Pilih bentuk geometri untuk menghitung luas dan keliling:\n",
      "1. Lingkaran\n",
      "2. Persegi\n",
      "3. Persegi panjang\n",
      "Luas lingkaran: 452.15999999999997\n",
      "Keliling lingkaran: 75.36\n"
     ]
    }
   ],
   "source": [
    "class BentukGeometri:\n",
    "    def hitung_luas(self):\n",
    "        pass\n",
    "\n",
    "    def hitung_keliling(self):\n",
    "        pass\n",
    "\n",
    "class Lingkaran(BentukGeometri):\n",
    "    def __init__(self, radius):\n",
    "        self.radius = radius\n",
    "\n",
    "    def hitung_luas(self):\n",
    "        return 3.14 * self.radius * self.radius\n",
    "\n",
    "    def hitung_keliling(self):\n",
    "        return 2 * 3.14 * self.radius\n",
    "\n",
    "class Persegi(BentukGeometri):\n",
    "    def __init__(self, sisi):\n",
    "        self.sisi = sisi\n",
    "\n",
    "    def hitung_luas(self):\n",
    "        return self.sisi * self.sisi\n",
    "\n",
    "    def hitung_keliling(self):\n",
    "        return 4 * self.sisi\n",
    "\n",
    "class PersegiPanjang(BentukGeometri):\n",
    "    def __init__(self, panjang, lebar):\n",
    "        self.panjang = panjang\n",
    "        self.lebar = lebar\n",
    "\n",
    "    def hitung_luas(self):\n",
    "        return self.panjang * self.lebar\n",
    "\n",
    "    def hitung_keliling(self):\n",
    "        return 2 * (self.panjang + self.lebar)\n",
    "\n",
    "def main():\n",
    "    print(\"Pilih bentuk geometri untuk menghitung luas dan keliling:\")\n",
    "    print(\"1. Lingkaran\")\n",
    "    print(\"2. Persegi\")\n",
    "    print(\"3. Persegi panjang\")\n",
    "    pilihan = int(input(\"Masukkan pilihan (1-3): \"))\n",
    "\n",
    "    if pilihan == 1:\n",
    "        radius = float(input(\"Masukkan radius lingkaran: \"))\n",
    "        lingkaran = Lingkaran(radius)\n",
    "        print(\"Luas lingkaran:\", lingkaran.hitung_luas())\n",
    "        print(\"Keliling lingkaran:\", lingkaran.hitung_keliling())\n",
    "\n",
    "    elif pilihan == 2:\n",
    "        sisi = float(input(\"Masukkan panjang sisi persegi: \"))\n",
    "        persegi = Persegi(sisi)\n",
    "        print(\"Luas persegi:\", persegi.hitung_luas())\n",
    "        print(\"Keliling persegi:\", persegi.hitung_keliling())\n",
    "\n",
    "    elif pilihan == 3:\n",
    "        panjang = float(input(\"Masukkan panjang persegi panjang: \"))\n",
    "        lebar = float(input(\"Masukkan lebar persegi panjang: \"))\n",
    "        persegi_panjang = PersegiPanjang(panjang, lebar)\n",
    "        print(\"Luas persegi panjang:\", persegi_panjang.hitung_luas())\n",
    "        print(\"Keliling persegi panjang:\", persegi_panjang.hitung_keliling())\n",
    "\n",
    "    else:\n",
    "        print(\"Pilihan tidak valid. Masukkan angka 1, 2, atau 3.\")\n",
    "\n",
    "if __name__ == \"__main__\":\n",
    "    main()\n"
   ]
  },
  {
   "cell_type": "code",
   "execution_count": 22,
   "metadata": {},
   "outputs": [
    {
     "name": "stdout",
     "output_type": "stream",
     "text": [
      "cupang bisa bertarung dengan sesama jenis\n",
      "tidak bisa bertarung\n"
     ]
    }
   ],
   "source": [
    "class ikan():\n",
    "\n",
    "    def berenang(self):\n",
    "        pass\n",
    "\n",
    "class cupang(ikan):\n",
    "    def berenang(self):\n",
    "        return \"cupang bisa bertarung dengan sesama jenis\"\n",
    "\n",
    "class nila(ikan):\n",
    "    def berenang(self):\n",
    "        return \"tidak bisa bertarung\"\n",
    "\n",
    "def uji_berenang(Ikan):\n",
    "    print (Ikan.berenang())\n",
    "\n",
    "Cupang = cupang()\n",
    "Nila = nila()\n",
    "\n",
    "uji_berenang(Cupang)\n",
    "uji_berenang(Nila)\n",
    "\n"
   ]
  }
 ],
 "metadata": {
  "kernelspec": {
   "display_name": "Python 3",
   "language": "python",
   "name": "python3"
  },
  "language_info": {
   "codemirror_mode": {
    "name": "ipython",
    "version": 3
   },
   "file_extension": ".py",
   "mimetype": "text/x-python",
   "name": "python",
   "nbconvert_exporter": "python",
   "pygments_lexer": "ipython3",
   "version": "3.11.8"
  }
 },
 "nbformat": 4,
 "nbformat_minor": 2
}
