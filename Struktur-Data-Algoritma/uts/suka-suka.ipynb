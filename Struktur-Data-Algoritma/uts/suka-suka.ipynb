{
 "cells": [
  {
   "cell_type": "code",
   "execution_count": null,
   "metadata": {},
   "outputs": [
    {
     "ename": "",
     "evalue": "",
     "output_type": "error",
     "traceback": [
      "\u001b[1;31mFailed to start the Kernel. \n",
      "\u001b[1;31mUnable to start Kernel 'base (Python 3.11.5)' due to a timeout waiting for the ports to get used. \n",
      "\u001b[1;31mView Jupyter <a href='command:jupyter.viewOutput'>log</a> for further details."
     ]
    }
   ],
   "source": [
    "total = 0\n",
    "jumlah = 0\n",
    "\n",
    "while True:\n",
    "    input_angka = (\"Masukan Bilangan (jika sudah ketik selesai) : \")\n",
    "\n",
    "    if input_angka.lower() == \"selesai\":\n",
    "        break\n",
    "\n",
    "    try:\n",
    "        angka = float(input_angka)\n",
    "        angka += total\n",
    "        jumlah += 1\n",
    "    \n",
    "    except ValueError:\n",
    "        print (\"Input yang dimasukkan salah\")\n",
    "\n",
    "if jumlah > 0:\n",
    "    hitung = total / jumlah\n",
    "    print (f\"rata-rata bilangan {jumlah} adalah {hitung}\")\n",
    "else:\n",
    "    print (\"Tidak ada bilangan yang dimasukkan\")"
   ]
  },
  {
   "cell_type": "code",
   "execution_count": null,
   "metadata": {},
   "outputs": [
    {
     "ename": "",
     "evalue": "",
     "output_type": "error",
     "traceback": [
      "\u001b[1;31mFailed to start the Kernel. \n",
      "\u001b[1;31mUnable to start Kernel 'base (Python 3.11.5)' due to a timeout waiting for the ports to get used. \n",
      "\u001b[1;31mView Jupyter <a href='command:jupyter.viewOutput'>log</a> for further details."
     ]
    }
   ],
   "source": [
    "import pandas as pd\n",
    "import numpy as np\n",
    "import matplotlib.pyplot as plt\n",
    "\n",
    "\n",
    "table = pd.read_csv(\"https://storage.googleapis.com/dqlab-dataset/penduduk_gender_head.csv\")\n",
    "table.head()\n",
    "x_label = table['NAMA KELURAHAN']\n",
    "plt.bar(x=np.arange(len(x_label)),height=table['LAKI-LAKI WNI'])\n",
    "plt.show()"
   ]
  }
 ],
 "metadata": {
  "kernelspec": {
   "display_name": "base",
   "language": "python",
   "name": "python3"
  },
  "language_info": {
   "name": "python",
   "version": "3.11.5"
  }
 },
 "nbformat": 4,
 "nbformat_minor": 2
}
