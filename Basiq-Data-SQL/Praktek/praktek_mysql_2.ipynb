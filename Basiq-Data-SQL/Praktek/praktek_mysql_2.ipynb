{
 "cells": [
  {
   "cell_type": "code",
   "execution_count": 61,
   "metadata": {},
   "outputs": [
    {
     "name": "stdout",
     "output_type": "stream",
     "text": [
      "  id_pinjam    id_anggota    id_buku  tanggal_pinjam    tanggal_kembali\n",
      "-----------  ------------  ---------  ----------------  -----------------\n",
      "          1             2          4  2024-05-01        2024-05-09\n",
      "          2             1          4  2024-06-01        2024-06-06\n"
     ]
    }
   ],
   "source": [
    "import mysql.connector\n",
    "from tabulate import tabulate\n",
    "\n",
    "db_connecting = mysql.connector.connect (\n",
    "    host = \"localhost\",\n",
    "    user = \"root\",\n",
    "    password = \"\",\n",
    "    database = \"praktek_mandiri\"\n",
    ")\n",
    "\n",
    "cursor = db_connecting.cursor()\n",
    "\n",
    "query = \"SELECT * FROM pinjaman WHERE id_buku='4'\"\n",
    "cursor.execute(query)\n",
    "\n",
    "data = cursor.fetchall()\n",
    "columns = cursor.column_names\n",
    "\n",
    "cursor.close()\n",
    "db_connecting.close()\n",
    "\n",
    "print (tabulate(data, headers=columns, floatfmt=\"github\"))"
   ]
  }
 ],
 "metadata": {
  "kernelspec": {
   "display_name": "Python 3",
   "language": "python",
   "name": "python3"
  },
  "language_info": {
   "codemirror_mode": {
    "name": "ipython",
    "version": 3
   },
   "file_extension": ".py",
   "mimetype": "text/x-python",
   "name": "python",
   "nbconvert_exporter": "python",
   "pygments_lexer": "ipython3",
   "version": "3.11.8"
  }
 },
 "nbformat": 4,
 "nbformat_minor": 2
}
